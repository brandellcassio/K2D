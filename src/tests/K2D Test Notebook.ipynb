{
 "cells": [
  {
   "cell_type": "code",
   "execution_count": 4,
   "metadata": {},
   "outputs": [
    {
     "name": "stdout",
     "output_type": "stream",
     "text": [
      "Schema Index:\n",
      "\n",
      "<index.schema_index.SchemaIndex object at 0x7f04678166a0>\n",
      "{'usable': 'usable making database systems', 'making': 'usable making database systems', 'database': 'usable making database systems', 'systems': 'usable making database systems'}\n",
      "JOURNAL.s(*{papers})\n",
      "DOMAIN.s(name{making})\n",
      "CONFERENCE.s(name{making})\n",
      "JOURNAL.s(name{making})\n",
      "PUBLICATION.s(abstract{making})\n",
      "ORGANIZATION.s(*{systems})\n",
      "AUTHOR.s(name{making})\n",
      "PUBLICATION.s(*{papers})\n",
      "PUBLICATION.s(citation_num{papers})\n",
      "PUBLICATION.s(title{papers})\n",
      "PUBLICATION.s(reference_num{papers})\n",
      "ORGANIZATION.s(name{making})\n",
      "VKM:  papers\n",
      "VKM:  paper\n",
      "VKM:  paper\n",
      "VKM:  making\n",
      "VKM:  make\n",
      "VKM:  making\n",
      "VKM:  database\n",
      "VKM:  database\n",
      "VKM:  database\n",
      "VKM:  systems\n",
      "VKM:  systems\n",
      "VKM:  system\n",
      "VKM:  usable\n",
      "VKM:  usable\n",
      "VKM:  usable\n",
      "{'usable': 'usable making database systems', 'making': 'usable making database systems', 'database': 'usable making database systems', 'systems': 'usable making database systems'}\n",
      "JOURNAL.v(name{papers})\n",
      "PUBLICATION.v(title{papers})\n",
      "KEYWORD.v(keyword{papers})\n",
      "AUTHOR.v(name{papers})\n",
      "PUBLICATION.v(title{making})\n",
      "KEYWORD.v(keyword{making})\n",
      "AUTHOR.v(name{making})\n",
      "DOMAIN.v(name{database})\n",
      "JOURNAL.v(name{database})\n",
      "PUBLICATION.v(title{database})\n",
      "KEYWORD.v(keyword{database})\n",
      "AUTHOR.v(name{database})\n",
      "CONFERENCE.v(name{database})\n",
      "DOMAIN.v(name{systems})\n",
      "JOURNAL.v(name{systems})\n",
      "PUBLICATION.v(title{systems})\n",
      "KEYWORD.v(keyword{systems})\n",
      "ORGANIZATION.v(name{systems})\n",
      "CONFERENCE.v(name{systems})\n",
      "PUBLICATION.v(title{usable})\n",
      "KEYWORD.v(keyword{usable})\n",
      "PUBLICATION.v(title{papers,making})\n",
      "PUBLICATION.v(title{papers,database})\n",
      "PUBLICATION.v(title{papers,systems})\n",
      "PUBLICATION.v(title{making,database})\n",
      "PUBLICATION.v(title{making,systems})\n",
      "PUBLICATION.v(title{usable,making})\n",
      "JOURNAL.v(name{database,systems})\n",
      "PUBLICATION.v(title{database,systems})\n",
      "PUBLICATION.v(title{usable,database})\n",
      "KEYWORD.v(keyword{database,systems})\n",
      "CONFERENCE.v(name{database,systems})\n",
      "PUBLICATION.v(title{usable,systems})\n",
      "PUBLICATION.v(title{papers,making,systems})\n",
      "PUBLICATION.v(title{papers,database,systems})\n",
      "PUBLICATION.v(title{making,database,systems})\n",
      "PUBLICATION.v(title{usable,making,systems})\n",
      "PUBLICATION.v(title{usable,making,database,systems})\n"
     ]
    }
   ],
   "source": [
    "import sys\n",
    "import os\n",
    "from pprint import pprint as pp\n",
    "from glob import glob\n",
    "sys.path.append('../')\n",
    "\n",
    "from utils import ConfigHandler\n",
    "from index import IndexHandler, BabelHash\n",
    "from query_match import QueryMatch, QueryMatchHandler\n",
    "\n",
    "config = ConfigHandler()\n",
    "indexHandler = IndexHandler()\n",
    "qm_handler = QueryMatchHandler()\n",
    "\n",
    "#print(os.path.abspath(__file__))\n",
    "\n",
    "#Testando o upload com um dos partial indexes\n",
    "#filename=glob(f'{config.value_index_filename}.part*')[1]\n",
    "#print(f'filename {filename}')\n",
    "\n",
    "\n",
    "indexHandler.load_indexes(config.value_index_filename, config.schema_index_filename)\n",
    "\n",
    "print('Schema Index:\\n')\n",
    "pp(indexHandler.schema_index)\n",
    "\n",
    "from utils import ConfigHandler, Similarity\n",
    "from keyword_match import KeywordMatchHandler\n",
    "similarity = Similarity(indexHandler.schema_index)\n",
    "\n",
    "query = [\"papers\", \"making\", \"database\", \"systems\", \"usable\"]\n",
    "#query = [\"authors\", \"papers\", \"conference\", \"vldb\", \"2002\", \"1995\"]\n",
    "#query = [\"making\", \"database\", \"systems\",\"usable\"]\n",
    "#query = [\"author\", \"university of michigan\", \"area\", \"databases\", \"papers\", \"citations\", \"5000\"]\n",
    "#query = [\"apple\",\"stores\"]\n",
    "#print(f'Testing SKMGen for query {query}')\n",
    "\n",
    "kwHandler = KeywordMatchHandler(similarity)\n",
    "skm_matches = kwHandler.schema_keyword_match_generator(query, indexHandler.schema_index)\n",
    "skm_matches = kwHandler.filter_kwmatches_by_segments(skm_matches, segments=[\"making database systems usable\"])\n",
    "\n",
    "vkm_matches = kwHandler.value_keyword_match_generator(query, indexHandler.value_index)\n",
    "vkm_matches = kwHandler.filter_kwmatches_by_segments(vkm_matches, segments=[\"making database systems usable\"])\n",
    "#vkm_matches = kwHandler.filter_kwmatches_by_segments(vkm_matches, [\"making database systems usable\"])\n",
    "#print(len(vkm_matches) + len(skm_matches))\n",
    "#qm_handler.generate_query_matches(query, skm_matches | vkm_matches, segments=[\"making database systems usable\"])\n"
   ]
  },
  {
   "cell_type": "code",
   "execution_count": 5,
   "metadata": {},
   "outputs": [
    {
     "data": {
      "text/plain": [
       "{JOURNAL.s(*{papers}),\n",
       " PUBLICATION.s(*{papers}),\n",
       " PUBLICATION.s(citation_num{papers}),\n",
       " PUBLICATION.s(reference_num{papers}),\n",
       " PUBLICATION.s(title{papers})}"
      ]
     },
     "execution_count": 5,
     "metadata": {},
     "output_type": "execute_result"
    }
   ],
   "source": [
    "skm_matches"
   ]
  },
  {
   "cell_type": "code",
   "execution_count": 12,
   "metadata": {},
   "outputs": [
    {
     "data": {
      "text/plain": [
       "[(PUBLICATION.v(title{databases}), 14248),\n",
       " (PUBLICATION.v(title{area}), 12233),\n",
       " (PUBLICATION.v(title{author}), 7194),\n",
       " (PUBLICATION.v(title{papers}), 4034),\n",
       " (PUBLICATION.v(title{citations}), 317),\n",
       " (KEYWORD.v(keyword{area}), 99),\n",
       " (PUBLICATION.v(title{author,papers}), 97),\n",
       " (PUBLICATION.v(title{5000}), 66),\n",
       " (PUBLICATION.v(title{area,papers}), 37),\n",
       " (PUBLICATION.v(title{area,author}), 36),\n",
       " (PUBLICATION.v(title{databases,papers}), 29),\n",
       " (PUBLICATION.v(title{citations,author}), 27),\n",
       " (PUBLICATION.v(title{databases,area}), 19),\n",
       " (PUBLICATION.v(title{databases,author}), 14),\n",
       " (PUBLICATION.v(title{citations,papers}), 13),\n",
       " (KEYWORD.v(keyword{databases}), 10),\n",
       " (KEYWORD.v(keyword{author}), 9),\n",
       " (AUTHOR.v(name{area}), 9),\n",
       " (CONFERENCE.v(name{databases}), 9),\n",
       " (ORGANIZATION.v(name{area}), 6),\n",
       " (AUTHOR.v(name{author}), 2),\n",
       " (CONFERENCE.v(name{area}), 2),\n",
       " (PUBLICATION.v(title{citations,area}), 2),\n",
       " (PUBLICATION.v(title{citations,databases}), 2),\n",
       " (JOURNAL.v(name{area}), 1),\n",
       " (DOMAIN.v(name{databases}), 1),\n",
       " (AUTHOR.v(name{databases}), 1),\n",
       " (JOURNAL.v(name{papers}), 1),\n",
       " (PUBLICATION.v(title{citations,author,papers}), 1)]"
      ]
     },
     "execution_count": 12,
     "metadata": {},
     "output_type": "execute_result"
    }
   ],
   "source": [
    "sorted([(k, len(v)) for k,v in raw_vkm.items()], key=lambda x:x[1], reverse=True)"
   ]
  },
  {
   "cell_type": "code",
   "execution_count": 6,
   "metadata": {},
   "outputs": [
    {
     "name": "stdout",
     "output_type": "stream",
     "text": [
      "Help on built-in function sorted in module builtins:\n",
      "\n",
      "sorted(iterable, /, *, key=None, reverse=False)\n",
      "    Return a new list containing all items from the iterable in ascending order.\n",
      "    \n",
      "    A custom key function can be supplied to customize the sort order, and the\n",
      "    reverse flag can be set to request the result in descending order.\n",
      "\n"
     ]
    }
   ],
   "source": [
    "help(sorted)"
   ]
  },
  {
   "cell_type": "code",
   "execution_count": null,
   "metadata": {},
   "outputs": [],
   "source": [
    "def generate_query_matches(self, keyword_query, keyword_matches, **kwargs):\n",
    "        #Input:  A keyword query Q, The set of non-empty non-free tuple-sets Rq\n",
    "        #Output: The set Mq of query matches for Q\n",
    "        max_qm_size = kwargs.get('max_qm_size',5)\n",
    "        segments = kwargs.get('segments', [])\n",
    "        self.query_matches = []\n",
    "        set_query_match = set()\n",
    "        \n",
    "        # len(segments)+1\n",
    "        # min(len(segments), max_qm_size)+1\n",
    "        for i in range(1, len(segments)+1):\n",
    "            print(\"combining \",i)\n",
    "            count=0\n",
    "            for candidate_match in itertools.combinations(keyword_matches,i):\n",
    "                count+=1\n",
    "                #print(\"candidate query match: {}\".format(candidate_match))\n",
    "                if self.has_minimal_cover(candidate_match,keyword_query):\n",
    "                #and \\\n",
    "                #(len(sements) != 0  and self.check_segments(segments, candidate_match):\n",
    "                    merged_query_match = self.merge_schema_filters(candidate_match)\n",
    "\n",
    "                    query_match = QueryMatch(merged_query_match)\n",
    "\n",
    "                    #TODO: checking user group\n",
    "                    self.query_matches.append(query_match)\n",
    "                    set_query_match.add(query_match)\n",
    "            #print(len(self.query_matches), count)"
   ]
  },
  {
   "cell_type": "code",
   "execution_count": null,
   "metadata": {},
   "outputs": [],
   "source": [
    "from math import comb\n",
    "\n",
    "sum([comb(len(vkm_matches) + len(skm_matches), i) for i in range(len(query) + 1)])"
   ]
  },
  {
   "cell_type": "code",
   "execution_count": null,
   "metadata": {},
   "outputs": [],
   "source": [
    "qm_handler.rank_query_matches(indexHandler.value_index, indexHandler.schema_index, similarity, log_score=False)\n",
    "for i, query_match in enumerate(qm_handler.query_matches):\n",
    "    print(i, query_match, query_match.total_score)"
   ]
  },
  {
   "cell_type": "code",
   "execution_count": null,
   "metadata": {},
   "outputs": [],
   "source": [
    "skm_matches"
   ]
  },
  {
   "cell_type": "code",
   "execution_count": null,
   "metadata": {},
   "outputs": [],
   "source": [
    "score_list  = []\n",
    "a = (vkm_matches)"
   ]
  },
  {
   "cell_type": "code",
   "execution_count": null,
   "metadata": {},
   "outputs": [],
   "source": [
    "for k in query:\n",
    "    tuple_index = indexHandler.get_value_mappings(k)\n",
    "    print(\"for {}\".format(k))\n",
    "    print('\\n'.join(['{}.{}: {}'.format(x,y, len(tuple_index[1][x][y])) for x in tuple_index[1] for y in tuple_index[1][x]]))\n",
    "    print(\"-\"*30)"
   ]
  },
  {
   "cell_type": "code",
   "execution_count": null,
   "metadata": {},
   "outputs": [],
   "source": [
    "database_index"
   ]
  },
  {
   "cell_type": "code",
   "execution_count": null,
   "metadata": {},
   "outputs": [],
   "source": []
  },
  {
   "cell_type": "code",
   "execution_count": null,
   "metadata": {},
   "outputs": [],
   "source": [
    "making_index = indexHandler.get_value_mappings(\"making\")"
   ]
  },
  {
   "cell_type": "code",
   "execution_count": null,
   "metadata": {},
   "outputs": [],
   "source": [
    "making_index"
   ]
  },
  {
   "cell_type": "code",
   "execution_count": null,
   "metadata": {},
   "outputs": [],
   "source": [
    "system_index = indexHandler.get_value_mappings(\"system\")"
   ]
  },
  {
   "cell_type": "code",
   "execution_count": null,
   "metadata": {},
   "outputs": [],
   "source": [
    "usable_index = indexHandler.get_value_mappings(\"usable\")"
   ]
  },
  {
   "cell_type": "code",
   "execution_count": null,
   "metadata": {},
   "outputs": [],
   "source": [
    "set(making_index[1]['author']['name']) & set(system_index[1]['author']['name']) & set(usable_index[1]['author']['name'])"
   ]
  },
  {
   "cell_type": "code",
   "execution_count": null,
   "metadata": {},
   "outputs": [],
   "source": [
    "import sys\n",
    "sys.path.append('../')\n",
    "\n",
    "from utils import ConfigHandler, Similarity\n",
    "from index import IndexHandler\n",
    "from keyword_match import KeywordMatchHandler\n",
    "from query_match import QueryMatch, QueryMatchHandler\n",
    "\n",
    "\n",
    "config = ConfigHandler()\n",
    "indexHandler = IndexHandler()\n",
    "indexHandler.load_indexes(config.value_index_filename, config.schema_index_filename)\n",
    "similarity = Similarity(indexHandler.schema_index)\n",
    "\n",
    "#query = [\"papers\", \"making\", \"database\", \"systems\", \"usable\"]\n",
    "#query = [\"authors\", \"papers\", \"conference\", \"vldb\", \"2002\", \"1995\"]\n",
    "query = [\"university\", \"michigan\"]\n",
    "#print(f'Testing SKMGen for query {query}')\n",
    "kwHandler = KeywordMatchHandler(similarity)\n",
    "skm_matches = kwHandler.schema_keyword_match_generator(query, indexHandler.schema_index)\n",
    "#print (skm_matches)\n",
    "\n",
    "print(f'Testing VKMGen for query {query}')\n",
    "vkm_matches = kwHandler.value_keyword_match_generator(query, indexHandler.value_index)\n",
    "print (vkm_matches | skm_matches)\n"
   ]
  },
  {
   "cell_type": "code",
   "execution_count": null,
   "metadata": {},
   "outputs": [],
   "source": [
    "query = [\"2000\"]\n",
    "#print(f'Testing SKMGen for query {query}')\n",
    "kwHandler = KeywordMatchHandler(similarity)\n",
    "skm_matches = kwHandler.schema_keyword_match_generator(query, indexHandler.schema_index)\n"
   ]
  },
  {
   "cell_type": "code",
   "execution_count": null,
   "metadata": {},
   "outputs": [],
   "source": [
    "lst_01 = list(vkm_matches)"
   ]
  },
  {
   "cell_type": "code",
   "execution_count": null,
   "metadata": {},
   "outputs": [],
   "source": [
    "d_set = [QueryMatch([lst_01[7]] + [lst_01[8]]), QueryMatch([lst_01[16]])]"
   ]
  },
  {
   "cell_type": "code",
   "execution_count": null,
   "metadata": {},
   "outputs": [],
   "source": [
    "qm_handler = QueryMatchHandler()\n",
    "qm_handler.query_matches = d_set\n",
    "qm_handler.rank_query_matches(indexHandler.value_index, indexHandler.schema_index, similarity, log_score=False)\n",
    "\n",
    "for query_match in qm_handler.query_matches:\n",
    "    print(query_match, query_match.total_score)"
   ]
  },
  {
   "cell_type": "code",
   "execution_count": null,
   "metadata": {},
   "outputs": [],
   "source": [
    "0.00018171986472526662, 0.00018110873101385524"
   ]
  },
  {
   "cell_type": "code",
   "execution_count": null,
   "metadata": {},
   "outputs": [],
   "source": [
    "[(i,item) for i, item in enumerate(lst_01) if item.table == 'organization']"
   ]
  },
  {
   "cell_type": "code",
   "execution_count": null,
   "metadata": {},
   "outputs": [],
   "source": []
  },
  {
   "cell_type": "code",
   "execution_count": null,
   "metadata": {},
   "outputs": [],
   "source": [
    "vkm_matches"
   ]
  }
 ],
 "metadata": {
  "kernelspec": {
   "display_name": "Python 3",
   "language": "python",
   "name": "python3"
  },
  "language_info": {
   "codemirror_mode": {
    "name": "ipython",
    "version": 3
   },
   "file_extension": ".py",
   "mimetype": "text/x-python",
   "name": "python",
   "nbconvert_exporter": "python",
   "pygments_lexer": "ipython3",
   "version": "3.9.2"
  }
 },
 "nbformat": 4,
 "nbformat_minor": 4
}
