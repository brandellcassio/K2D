{
 "cells": [
  {
   "cell_type": "code",
   "execution_count": 33,
   "id": "worst-vancouver",
   "metadata": {},
   "outputs": [],
   "source": [
    "import sys\n",
    "sys.path.append('../')\n",
    "import pandas as pd\n",
    "\n",
    "import json\n",
    "from mapper import Mapper\n",
    "\n",
    "k2d_gt = '../../data/results/yelp_gt_result.v03.jsonl'\n",
    "nalir_mapping = '../../data/results/yelp_nalir_outputs.v03.json'\n",
    "k2d_nalir = '../../data/nalir_inputs/yelp_nalir_inputs.results.final.json'\n",
    "k2d_gt_file = '../../data/gts/yelp_gt.v01.json'\n",
    "k2d_new_file = '../../data/results/yelp_gt_result.v12.jsonl'\n",
    "k2d_new_compare_file = '../../data/results/yelp_gt_result.v11.jsonl'\n",
    "k2d_gt_data = []\n",
    "nalir_data = []\n",
    "k2d_nalir_data = []\n",
    "\n",
    "k2d_yelp_gt = []\n",
    "k2d_new_data = []\n",
    "k2d_new_compare_data = []"
   ]
  },
  {
   "cell_type": "code",
   "execution_count": 89,
   "id": "billion-meaning",
   "metadata": {},
   "outputs": [
    {
     "name": "stdout",
     "output_type": "stream",
     "text": [
      "123\n"
     ]
    }
   ],
   "source": []
  },
  {
   "cell_type": "code",
   "execution_count": 34,
   "id": "popular-failure",
   "metadata": {},
   "outputs": [],
   "source": [
    "with open(k2d_gt) as f:\n",
    "    k2d_gt_data = [json.loads(x) for x in f]\n",
    "    \n",
    "with open(nalir_mapping) as f:\n",
    "    nalir_data = json.load(f)\n",
    "    \n",
    "with open(k2d_nalir) as f:\n",
    "    k2d_nalir_data = [json.loads(x) for x in f]    \n",
    "    \n",
    "with open(k2d_gt_file) as f:\n",
    "    k2d_yelp_gt = json.load(f)\n",
    "    \n",
    "with open(k2d_new_file) as f:\n",
    "    k2d_new_data = [json.loads(x) for x in f]\n",
    "\n",
    "with open(k2d_new_compare_file) as f:\n",
    "    k2d_new_compare_data = [json.loads(x) for x in f]"
   ]
  },
  {
   "cell_type": "code",
   "execution_count": 225,
   "id": "special-equivalent",
   "metadata": {},
   "outputs": [],
   "source": [
    "k2d_gt_data.sort(key=lambda x:x['query_id'])"
   ]
  },
  {
   "cell_type": "code",
   "execution_count": 226,
   "id": "funky-omaha",
   "metadata": {},
   "outputs": [],
   "source": [
    "k2d_nalir_data.sort(key=lambda x:x['query_id'])"
   ]
  },
  {
   "cell_type": "code",
   "execution_count": 5,
   "id": "promotional-developer",
   "metadata": {},
   "outputs": [],
   "source": [
    "nalir_query_ids = set([x['id'] for x in nalir_data if x['query_candidate_item'] == 0])"
   ]
  },
  {
   "cell_type": "code",
   "execution_count": 200,
   "id": "abroad-transformation",
   "metadata": {},
   "outputs": [],
   "source": [
    "k2d_query_ids = set([x['query_id'] for x in k2d_gt_data if x['query_candidate_item'] == 0])"
   ]
  },
  {
   "cell_type": "code",
   "execution_count": 14,
   "id": "indie-cheat",
   "metadata": {},
   "outputs": [],
   "source": [
    "k2d_new_ids = set([x['query_id'] for x in k2d_new_data if x['query_candidate_item'] == 1])"
   ]
  },
  {
   "cell_type": "code",
   "execution_count": 15,
   "id": "assured-tokyo",
   "metadata": {},
   "outputs": [
    {
     "data": {
      "text/plain": [
       "{13, 22, 26, 63, 71, 78, 79, 84, 92, 95, 108, 127}"
      ]
     },
     "execution_count": 15,
     "metadata": {},
     "output_type": "execute_result"
    }
   ],
   "source": [
    "k2d_new_ids"
   ]
  },
  {
   "cell_type": "code",
   "execution_count": 5,
   "id": "catholic-remedy",
   "metadata": {},
   "outputs": [
    {
     "data": {
      "text/plain": [
       "set()"
      ]
     },
     "execution_count": 5,
     "metadata": {},
     "output_type": "execute_result"
    }
   ],
   "source": [
    "k2d_new_ids"
   ]
  },
  {
   "cell_type": "code",
   "execution_count": 237,
   "id": "found-member",
   "metadata": {},
   "outputs": [
    {
     "data": {
      "text/plain": [
       "{'query_id': 39,\n",
       " 'query': 'List all businesses with rating 3.5',\n",
       " 'segments': ['rating', '3.5', 'businesses'],\n",
       " 'query_matches': [{'table': 'business',\n",
       "   'schema_filter': [{'attribute': 'rating', 'keywords': ['rating']},\n",
       "    {'attribute': 'name', 'keywords': ['businesses']}],\n",
       "   'value_filter': [{'attribute': 'rating', 'keywords': ['3.5']}]}]}"
      ]
     },
     "execution_count": 237,
     "metadata": {},
     "output_type": "execute_result"
    }
   ],
   "source": [
    "k2d_yelp_gt[38]"
   ]
  },
  {
   "cell_type": "code",
   "execution_count": 35,
   "id": "introductory-ranch",
   "metadata": {},
   "outputs": [],
   "source": [
    "x = sorted([(x['query_id'],x['query_candidate_item'], k2d_yelp_gt[i]['segments']) for i, x in enumerate(k2d_new_data)], key=lambda x: x[1])"
   ]
  },
  {
   "cell_type": "code",
   "execution_count": 36,
   "id": "sublime-arthur",
   "metadata": {},
   "outputs": [],
   "source": [
    "y =  sorted([(x['query_id'],x['query_candidate_item'], k2d_yelp_gt[i]['segments']) for i, x in enumerate(k2d_new_compare_data)], key=lambda x: x[1])"
   ]
  },
  {
   "cell_type": "code",
   "execution_count": 22,
   "id": "distributed-joyce",
   "metadata": {},
   "outputs": [
    {
     "data": {
      "text/plain": [
       "[(4, 0, ['3.5', 'restaurants']),\n",
       " (5, 0, ['4.5', 'businesses']),\n",
       " (6, 0, ['3.5', 'restaurants']),\n",
       " (8, 0, ['cities', 'Taj Mahal', 'restaurant']),\n",
       " (15, 0, ['reviews', 'Niloofar', '2015']),\n",
       " (16, 0, ['5.0', 'Niloofar', 'businesses']),\n",
       " (17, 0, ['reviews', 'rating', 'Michelle']),\n",
       " (18, 0, ['checkins', 'business']),\n",
       " (20, 0, ['Cafe Zinho', 'friday', 'checkins']),\n",
       " (29, 0, ['tips', 'likes', 'Niloofar']),\n",
       " (30, 0, ['Cafe Zinho', 'tips', 'likes']),\n",
       " (31, 0, ['Cafe Zinho', 'tips', 'likes', 'Niloofar']),\n",
       " (32, 0, ['tips', '2014', 'Michelle']),\n",
       " (39, 0, ['rating', '3.5', 'businesses']),\n",
       " (42, 0, ['pet groomers', 'reviews', '100']),\n",
       " (55, 0, ['Mesa Grill', 'users', 'restaurant']),\n",
       " (62, 0, ['Patrick', 'bars']),\n",
       " (67, 0, ['Barrio Cafe', 'checkins', 'day', 'restaurant']),\n",
       " (79, 0, ['reviews', 'Adrienne']),\n",
       " (81, 0, ['businesses', '2010', 'Michelle']),\n",
       " (83, 0, ['reviews', 'Patrick', '4.0', 'rating']),\n",
       " (93, 0, ['Michelle', 'name', 'user']),\n",
       " (95, 0, ['reviews', '2014', 'Kabob Palace', 'year']),\n",
       " (96, 0, ['reviews', 'rating', '2014', 'year']),\n",
       " (99, 0, ['states', 'Whataburger']),\n",
       " (100, 0, ['MGM Grand Buffet', 'cities', 'restaurant']),\n",
       " (102, 0, ['reviews', 'neighborhood', 'South Summerlin', 'businesses']),\n",
       " (104, 0, ['pet groomers', 'tips', 'users']),\n",
       " (106, 0, ['Michelle', 'users']),\n",
       " (107, 0, ['1.5', 'cities', 'businesses']),\n",
       " (111, 0, ['cities', 'Taj Mahal']),\n",
       " (113, 0, ['businesses', 'restaurants']),\n",
       " (114, 0, ['businesses', 'users', 'restaurants']),\n",
       " (115, 0, ['Panda Express', 'cities']),\n",
       " (116, 0, ['Pennsylvania', 'Cafe Zinho', 'tips', '2010']),\n",
       " (117, 0, ['Michelle', 'tips']),\n",
       " (118, 0, ['Michelle', 'tips', '2010']),\n",
       " (119, 0, ['2010', 'businesses', 'users', 'restaurants']),\n",
       " (120, 0, ['neighborhood', 'Brighton Heights', 'checkins']),\n",
       " (121, 0, ['Sunday', 'checkins']),\n",
       " (124, 0, ['tips', 'month']),\n",
       " (126, 0, ['categories', 'business']),\n",
       " (127, 0, ['reviews', '1.0', 'business']),\n",
       " (13, 1, ['reviews', 'Niloofar']),\n",
       " (22, 1, ['reviews', 'user']),\n",
       " (23, 1, ['Pittsburgh', 'users', 'Sushi Too']),\n",
       " (26, 1, ['Pittsburgh', '4.5', 'restaurants']),\n",
       " (28, 1, ['2015', 'tips']),\n",
       " (34, 1, ['Texas', 'restaurants']),\n",
       " (40, 1, ['Texas', 'restaurants']),\n",
       " (63, 1, ['Patrick', 'bars', '3.0']),\n",
       " (71, 1, ['2015', 'Barrio Cafe', 'tips', 'users']),\n",
       " (77, 1, ['reviews', 'Michelle', 'businesses', 'user', 'month']),\n",
       " (92, 1, ['neighborhood', 'Flat Top Grill', 'restaurant']),\n",
       " (108, 1, ['Michelle', 'bussiness', 'neighborhoods']),\n",
       " (110, 1, ['Cafe Zinho', 'tips', 'Texas']),\n",
       " (3, 2, ['Madison', 'preschools']),\n",
       " (12, 2, ['Sunday', 'delis', 'checkins', 'state', 'Italian']),\n",
       " (41, 2, ['reviews', 'pet groomers', '100']),\n",
       " (49, 2, ['dance schools', 'Los Angeles']),\n",
       " (51, 2, ['2015', 'Bistro Di Napoli', 'people']),\n",
       " (57, 2, ['reviews', 'Acacia Cafe']),\n",
       " (78, 2, ['pet hospice', 'Pittsburgh']),\n",
       " (84, 2, ['Pittsburgh', 'bistros']),\n",
       " (86, 2, ['Apple store', 'Los Angeles']),\n",
       " (89, 2, ['rating', 'review', 'users', '3.0']),\n",
       " (91, 2, ['breweries', 'Los Angeles']),\n",
       " (112, 2, ['Pennsylvania', 'businesses', 'restaurants']),\n",
       " (33, 3, ['tips', 'April', 'Michelle']),\n",
       " (45, 3, ['gyms', 'Los Angeles']),\n",
       " (46, 3, ['dentists', 'Los Angeles']),\n",
       " (1, 4, ['texas', 'moroccan', 'restaurants']),\n",
       " (14, 4, ['review', 'businesses', 'Niloofar']),\n",
       " (19, 4, ['reviews', 'Michelle', 'Italian', 'restaurants']),\n",
       " (24, 4, ['pet groomers', 'Edinburgh']),\n",
       " (25, 4, ['pet groomers', 'Edinburgh']),\n",
       " (27, 4, ['Italian', '5.0', 'restaurants']),\n",
       " (48, 4, ['bars', 'Dallas']),\n",
       " (59, 4, ['addresses', 'Los Angeles', 'Walmart']),\n",
       " (60, 4, ['Patrick', 'Los Angeles', 'restaurants']),\n",
       " (82, 4, ['San Diego', 'businesses', '2010', 'Christine']),\n",
       " (128, 4, ['reviews', 'businesses', '2.0']),\n",
       " (66, 5, ['Egyptian', 'Edinburgh', 'restaurants']),\n",
       " (69, 6, ['Patrick', 'Dallas', 'user', 'restaurants']),\n",
       " (85, 6, ['bakeries', 'Los Angeles']),\n",
       " (98, 6, ['tips', 'businesses', 'users', 'Dallas']),\n",
       " (101, 6, ['MGM Grand Buffet', 'cities', 'Texas', 'restaurant']),\n",
       " (2, 7, ['Italian', 'Los Angeles', 'restaurants']),\n",
       " (9, 7, ['checkins', 'Los Angeles', 'Moroccan', 'restaurants']),\n",
       " (35, 8, ['businesses', 'Madison', 'neighborhood']),\n",
       " (122, 8, ['tips', '2012', 'user', 'review']),\n",
       " (10, 9, ['Friday', 'checkins', 'Los Angeles', 'Moroccan', 'restaurants']),\n",
       " (21, 9, ['reviews', 'Cafe Zinho', 'Texas', 'restaurants']),\n",
       " (73, 10, ['seafood', 'Los Angeles', 'restaurants']),\n",
       " (87, 11, ['Target', 'Los Angeles']),\n",
       " (88, 11, ['pubs', 'Irish', 'users', 'Dallas']),\n",
       " (70, 12, ['neighborhood', 'Stone Meadows', 'businesses', 'Madison']),\n",
       " (97, 12, ['2010', 'restaurant', 'Vintner Grill', 'people']),\n",
       " (36, 13, ['Madison', 'Italian', 'neighborhoods', 'restaurants']),\n",
       " (56, 14, ['Starbucks', 'Texas', 'Dallas']),\n",
       " (72, 15, ['rating', '2.0', 'businesses', 'Texas']),\n",
       " (53, 19, ['Hazelwood', 'Dallas', 'neighborhood', 'restaurants']),\n",
       " (90, 20, ['4.5', 'rating', 'Dallas', 'restaurants']),\n",
       " (61, 21, ['Meadowood', 'Italian', 'neighborhood', 'Madison', 'restaurants']),\n",
       " (37, 23, ['Madison', 'Italian', '2.5', 'neighborhoods', 'restaurants']),\n",
       " (7, 24, ['reviews', 'Thai', 'restaurant']),\n",
       " (76, 24, ['bars', '3.5', 'rating', 'Dallas']),\n",
       " (105, 26, ['reviews', 'bistros', '2.0', 'rating']),\n",
       " (94, 27, ['9', 'tips', 'Vintner Grill', 'likes']),\n",
       " (123, 28, ['reviews', 'March']),\n",
       " (58, 31, ['Dallas', 'valet service', 'Texas', 'restaurants']),\n",
       " (109, 32, ['reviews', 'April', 'business']),\n",
       " (50, 33, ['Dallas', 'restaurant', 'people', 'Texas de Brazil']),\n",
       " (11, 35, ['day', 'checkins', 'Los Angeles', 'Moroccan', 'restaurants']),\n",
       " (43, 39, ['4.0', 'Dallas', 'Chinese', 'restaurants']),\n",
       " (47, 42, ['dentists', '4.0', 'Los Angeles', 'rating']),\n",
       " (103, 48, ['Madison', 'games', 'escape']),\n",
       " (80, 52, ['reviews', 'March', '2014', 'Michelle']),\n",
       " (54, 57, ['reviews', 'Dallas', '50', 'hotels']),\n",
       " (52, 58, ['reviews', '100', 'Los Angeles', 'restaurants']),\n",
       " (75, 58, ['Dallas', 'rating', 'Italian', 'restaurant']),\n",
       " (38, 66, ['Madison', 'Italian', 'neighborhood', 'restaurant']),\n",
       " (125, 76, ['rating', 'Madison', 'neighborhoods', 'business', '5.0']),\n",
       " (64, 86, ['reviews', 'bars', '30', 'Los Angeles']),\n",
       " (68, 95, ['Dallas', 'rating', 'Indian', 'restaurant']),\n",
       " (44, 125, ['rating', '3.5', 'Dallas', 'Mexican', 'restaurants']),\n",
       " (74, 183, ['Dallas', 'reviews', 'Indian', 'restaurant']),\n",
       " (65, 971, ['rating', 'bars', 'Los Angeles', '30', 'reviews', '3.0'])]"
      ]
     },
     "execution_count": 22,
     "metadata": {},
     "output_type": "execute_result"
    }
   ],
   "source": [
    "x"
   ]
  },
  {
   "cell_type": "code",
   "execution_count": 7,
   "id": "capital-productivity",
   "metadata": {},
   "outputs": [],
   "source": [
    "z = x[0:37]"
   ]
  },
  {
   "cell_type": "code",
   "execution_count": 8,
   "id": "minute-numbers",
   "metadata": {},
   "outputs": [
    {
     "data": {
      "text/plain": [
       "[(5, -1, ['4.5', 'businesses', 'stars']),\n",
       " (10, -1, ['Fridays', 'checkins', 'Los Angeles', 'Moroccan', 'restaurants']),\n",
       " (12, -1, ['Sundays', 'delis', 'checkins', 'state', 'Italian']),\n",
       " (16, -1, ['5', 'Niloofar', 'businesses']),\n",
       " (20, -1, ['Cafe Zinho', 'fridays', 'checkins']),\n",
       " (23, -1, ['Pittsburgh', 'users', 'Sushi Too']),\n",
       " (27, -1, ['star', 'Italian', '5', 'restaurants']),\n",
       " (38, -1, ['Madison', 'Italian', 'neighborhood', 'stars', 'restaurant']),\n",
       " (41, -1, ['reviews', 'pet groomers', '100']),\n",
       " (42, -1, ['pet groomers', 'reviews', '100']),\n",
       " (43, -1, ['4', 'Dallas', 'stars', 'Chinese', 'restaurants']),\n",
       " (47, -1, ['dentists', '4', 'Los Angeles', 'rating']),\n",
       " (50, -1, ['Dallas', 'restaurant', 'people', 'Texas de Brazil', 'Texas']),\n",
       " (52, -1, ['reviews', '100', 'Los Angeles', 'restaurants']),\n",
       " (53, -1, ['Hazelwood', 'Dallas', 'district', 'restaurants']),\n",
       " (54, -1, ['reviews', 'Dallas', '50', 'hotels']),\n",
       " (56, -1, ['Starbucks', 'Texas', 'Dallas']),\n",
       " (58, -1, ['Dallas', 'valet', 'Texas', 'service', 'restaurants']),\n",
       " (59, -1, ['addresses', 'Los Angeles', 'Walmarts']),\n",
       " (63, -1, ['Patrick', 'bars', '3', 'stars']),\n",
       " (65, -1, ['rating', 'bars', 'Los Angeles', '30', 'reviews', '3', 'stars']),\n",
       " (72, -1, ['rating', '2', 'businesses', 'Texas']),\n",
       " (75, -1, ['Dallas', 'rating', 'Italian', 'restaurant']),\n",
       " (78, -1, ['pet hospices', 'Pittsburgh']),\n",
       " (82, -1, ['San Diego', 'businesses', '2010', 'Christine']),\n",
       " (83, -1, ['reviews', 'Patrick', '4', 'rating']),\n",
       " (86, -1, ['Apple stores', 'Los Angeles']),\n",
       " (88, -1, ['pubs', 'Irish', 'users', 'Dallas']),\n",
       " (89, -1, ['rating', 'review', 'users', '3']),\n",
       " (93, -1, ['Michelle', 'ids', 'name', 'user']),\n",
       " (94, -1, ['9', 'tips', 'Vintner Grill', 'likes']),\n",
       " (102, -1, ['reviews', 'neighborhood', 'South Summerlin', 'businesses']),\n",
       " (105, -1, ['reviews', 'bistros', '1.5', 'rating']),\n",
       " (121, -1, ['Sundays', 'checkins']),\n",
       " (125, -1, ['rating', 'Madison', 'neighborhoods', 'business', '5']),\n",
       " (127, -1, ['reviews', '1', 'business']),\n",
       " (128, -1, ['reviews', 'businesses', '2.5'])]"
      ]
     },
     "execution_count": 8,
     "metadata": {},
     "output_type": "execute_result"
    }
   ],
   "source": [
    "z"
   ]
  },
  {
   "cell_type": "code",
   "execution_count": 250,
   "id": "utility-transfer",
   "metadata": {},
   "outputs": [
    {
     "data": {
      "text/plain": [
       "{13, 22, 26, 63, 71, 78, 79, 84, 92, 95, 108, 127}"
      ]
     },
     "execution_count": 250,
     "metadata": {},
     "output_type": "execute_result"
    }
   ],
   "source": [
    "k2d_new_ids"
   ]
  },
  {
   "cell_type": "code",
   "execution_count": 261,
   "id": "alien-homeless",
   "metadata": {},
   "outputs": [],
   "source": [
    "a = k2d_yelp_gt[25]['segments']"
   ]
  },
  {
   "cell_type": "code",
   "execution_count": 51,
   "id": "south-chance",
   "metadata": {},
   "outputs": [],
   "source": [
    "a = a[:len(a)]"
   ]
  },
  {
   "cell_type": "code",
   "execution_count": 69,
   "id": "designed-diesel",
   "metadata": {},
   "outputs": [],
   "source": [
    "a[0] = '5.0'"
   ]
  },
  {
   "cell_type": "code",
   "execution_count": 154,
   "id": "worthy-representation",
   "metadata": {},
   "outputs": [],
   "source": [
    "a = ['5.0']"
   ]
  },
  {
   "cell_type": "code",
   "execution_count": 184,
   "id": "recovered-holly",
   "metadata": {},
   "outputs": [],
   "source": [
    "b = ['reviews', 'businesses', '2.0']"
   ]
  },
  {
   "cell_type": "code",
   "execution_count": 77,
   "id": "anonymous-guard",
   "metadata": {},
   "outputs": [],
   "source": [
    "a = [a[-1]]"
   ]
  },
  {
   "cell_type": "code",
   "execution_count": 76,
   "id": "golden-system",
   "metadata": {},
   "outputs": [
    {
     "data": {
      "text/plain": [
       "'Sushi Too'"
      ]
     },
     "execution_count": 76,
     "metadata": {},
     "output_type": "execute_result"
    }
   ],
   "source": [
    "a = []"
   ]
  },
  {
   "cell_type": "code",
   "execution_count": 258,
   "id": "marked-kitchen",
   "metadata": {},
   "outputs": [],
   "source": [
    "\n"
   ]
  },
  {
   "cell_type": "code",
   "execution_count": 156,
   "id": "specialized-collins",
   "metadata": {},
   "outputs": [
    {
     "data": {
      "text/plain": [
       "[{REVIEW.v(rating{5.0})}, {BUSINESS.v(rating{5.0})}]"
      ]
     },
     "execution_count": 156,
     "metadata": {},
     "output_type": "execute_result"
    }
   ],
   "source": []
  },
  {
   "cell_type": "code",
   "execution_count": 259,
   "id": "cordless-hypothesis",
   "metadata": {},
   "outputs": [
    {
     "data": {
      "text/plain": [
       "'list all the businesses which have a review by Niloofar'"
      ]
     },
     "execution_count": 259,
     "metadata": {},
     "output_type": "execute_result"
    }
   ],
   "source": [
    "k2d_yelp_gt[13]['query']"
   ]
  },
  {
   "cell_type": "code",
   "execution_count": 262,
   "id": "global-basketball",
   "metadata": {},
   "outputs": [
    {
     "data": {
      "text/plain": [
       "[0.5,\n",
       " 0.5,\n",
       " 0.4444444444444444,\n",
       " 0.4444444444444444,\n",
       " 0.42857142857142855,\n",
       " 0.42105263157894735,\n",
       " 0.4090909090909091,\n",
       " 0.4090909090909091,\n",
       " 0.00015361244827541485,\n",
       " 0.00015361244827541485,\n",
       " 0.0001365443984670354,\n",
       " 0.0001365443984670354,\n",
       " 0.00013166781280749844,\n",
       " 0.00012935785117929673,\n",
       " 0.00012568291222533944,\n",
       " 0.00012568291222533944,\n",
       " 8.777854187166563e-05,\n",
       " 1.3483876722952573e-08]"
      ]
     },
     "execution_count": 262,
     "metadata": {},
     "output_type": "execute_result"
    }
   ],
   "source": [
    "[x.total_score for x in data]"
   ]
  },
  {
   "cell_type": "code",
   "execution_count": 30,
   "id": "complimentary-license",
   "metadata": {},
   "outputs": [
    {
     "data": {
      "text/plain": [
       "[0.00020131584617607136,\n",
       " 0.00020131584617607136,\n",
       " 8.817380871121958e-05,\n",
       " 8.817380871121958e-05,\n",
       " 8.09060358805027e-06,\n",
       " 1.7717913087356468e-06,\n",
       " 1.0147532040940525e-06,\n",
       " 2.2222457051053838e-07]"
      ]
     },
     "execution_count": 30,
     "metadata": {},
     "output_type": "execute_result"
    }
   ],
   "source": [
    "[x.total_score for x in data]"
   ]
  },
  {
   "cell_type": "code",
   "execution_count": 172,
   "id": "tutorial-external",
   "metadata": {},
   "outputs": [
    {
     "data": {
      "text/plain": [
       "[{'table': 'review',\n",
       "  'schema_filter': [{'attribute': 'text', 'keywords': ['reviews']}],\n",
       "  'value_filter': [{'attribute': 'rating', 'keywords': ['2.5']}]},\n",
       " {'table': 'business',\n",
       "  'schema_filter': [{'attribute': 'name', 'keywords': ['businesses']}],\n",
       "  'value_filter': []}]"
      ]
     },
     "execution_count": 172,
     "metadata": {},
     "output_type": "execute_result"
    }
   ],
   "source": [
    "k2d_yelp_gt[127]['query_matches']"
   ]
  },
  {
   "cell_type": "code",
   "execution_count": 173,
   "id": "cognitive-latex",
   "metadata": {},
   "outputs": [
    {
     "data": {
      "text/plain": [
       "'Find all reviews for businesses rated 2.5'"
      ]
     },
     "execution_count": 173,
     "metadata": {},
     "output_type": "execute_result"
    }
   ],
   "source": [
    "k2d_yelp_gt[127]['query']"
   ]
  },
  {
   "cell_type": "code",
   "execution_count": 37,
   "id": "temporal-expert",
   "metadata": {},
   "outputs": [],
   "source": [
    "frame = pd.DataFrame(x, columns=['id', 'position', 'query'])"
   ]
  },
  {
   "cell_type": "code",
   "execution_count": 38,
   "id": "afraid-stranger",
   "metadata": {},
   "outputs": [],
   "source": [
    "frame_compare = pd.DataFrame(y, columns=['id', 'position', 'query'])"
   ]
  },
  {
   "cell_type": "code",
   "execution_count": 41,
   "id": "auburn-approval",
   "metadata": {},
   "outputs": [],
   "source": [
    "frame_merged = frame.merge(frame_compare, on='id')"
   ]
  },
  {
   "cell_type": "code",
   "execution_count": 42,
   "id": "stopped-furniture",
   "metadata": {},
   "outputs": [],
   "source": [
    "frame_merged.to_csv('yelp_result.output.v3.csv', sep='|')\n",
    "#(frame.to_csv)"
   ]
  },
  {
   "cell_type": "code",
   "execution_count": 90,
   "id": "military-medicaid",
   "metadata": {},
   "outputs": [
    {
     "data": {
      "text/html": [
       "<div>\n",
       "<style scoped>\n",
       "    .dataframe tbody tr th:only-of-type {\n",
       "        vertical-align: middle;\n",
       "    }\n",
       "\n",
       "    .dataframe tbody tr th {\n",
       "        vertical-align: top;\n",
       "    }\n",
       "\n",
       "    .dataframe thead th {\n",
       "        text-align: right;\n",
       "    }\n",
       "</style>\n",
       "<table border=\"1\" class=\"dataframe\">\n",
       "  <thead>\n",
       "    <tr style=\"text-align: right;\">\n",
       "      <th></th>\n",
       "      <th>id</th>\n",
       "      <th>position_x</th>\n",
       "      <th>query_x</th>\n",
       "      <th>position_y</th>\n",
       "      <th>query_y</th>\n",
       "    </tr>\n",
       "  </thead>\n",
       "  <tbody>\n",
       "    <tr>\n",
       "      <th>0</th>\n",
       "      <td>4</td>\n",
       "      <td>0</td>\n",
       "      <td>[3.5, restaurants]</td>\n",
       "      <td>0</td>\n",
       "      <td>[3.5, restaurants]</td>\n",
       "    </tr>\n",
       "    <tr>\n",
       "      <th>1</th>\n",
       "      <td>5</td>\n",
       "      <td>0</td>\n",
       "      <td>[4.5, businesses]</td>\n",
       "      <td>0</td>\n",
       "      <td>[4.5, businesses]</td>\n",
       "    </tr>\n",
       "    <tr>\n",
       "      <th>2</th>\n",
       "      <td>6</td>\n",
       "      <td>0</td>\n",
       "      <td>[3.5, restaurants]</td>\n",
       "      <td>0</td>\n",
       "      <td>[3.5, restaurants]</td>\n",
       "    </tr>\n",
       "    <tr>\n",
       "      <th>3</th>\n",
       "      <td>8</td>\n",
       "      <td>0</td>\n",
       "      <td>[cities, Taj Mahal, restaurant]</td>\n",
       "      <td>0</td>\n",
       "      <td>[cities, Taj Mahal, restaurant]</td>\n",
       "    </tr>\n",
       "    <tr>\n",
       "      <th>4</th>\n",
       "      <td>15</td>\n",
       "      <td>0</td>\n",
       "      <td>[reviews, Niloofar, 2015]</td>\n",
       "      <td>0</td>\n",
       "      <td>[reviews, Niloofar, 2015]</td>\n",
       "    </tr>\n",
       "    <tr>\n",
       "      <th>5</th>\n",
       "      <td>16</td>\n",
       "      <td>0</td>\n",
       "      <td>[5.0, Niloofar, businesses]</td>\n",
       "      <td>0</td>\n",
       "      <td>[5.0, Niloofar, businesses]</td>\n",
       "    </tr>\n",
       "    <tr>\n",
       "      <th>6</th>\n",
       "      <td>17</td>\n",
       "      <td>0</td>\n",
       "      <td>[reviews, rating, Michelle]</td>\n",
       "      <td>0</td>\n",
       "      <td>[reviews, rating, Michelle]</td>\n",
       "    </tr>\n",
       "    <tr>\n",
       "      <th>7</th>\n",
       "      <td>18</td>\n",
       "      <td>0</td>\n",
       "      <td>[checkins, business]</td>\n",
       "      <td>0</td>\n",
       "      <td>[checkins, business]</td>\n",
       "    </tr>\n",
       "    <tr>\n",
       "      <th>8</th>\n",
       "      <td>20</td>\n",
       "      <td>0</td>\n",
       "      <td>[Cafe Zinho, friday, checkins]</td>\n",
       "      <td>0</td>\n",
       "      <td>[Cafe Zinho, friday, checkins]</td>\n",
       "    </tr>\n",
       "    <tr>\n",
       "      <th>9</th>\n",
       "      <td>29</td>\n",
       "      <td>0</td>\n",
       "      <td>[tips, likes, Niloofar]</td>\n",
       "      <td>0</td>\n",
       "      <td>[tips, likes, Niloofar]</td>\n",
       "    </tr>\n",
       "    <tr>\n",
       "      <th>10</th>\n",
       "      <td>30</td>\n",
       "      <td>0</td>\n",
       "      <td>[Cafe Zinho, tips, likes]</td>\n",
       "      <td>0</td>\n",
       "      <td>[Cafe Zinho, tips, likes]</td>\n",
       "    </tr>\n",
       "    <tr>\n",
       "      <th>11</th>\n",
       "      <td>31</td>\n",
       "      <td>0</td>\n",
       "      <td>[Cafe Zinho, tips, likes, Niloofar]</td>\n",
       "      <td>0</td>\n",
       "      <td>[Cafe Zinho, tips, likes, Niloofar]</td>\n",
       "    </tr>\n",
       "    <tr>\n",
       "      <th>12</th>\n",
       "      <td>32</td>\n",
       "      <td>0</td>\n",
       "      <td>[tips, 2014, Michelle]</td>\n",
       "      <td>0</td>\n",
       "      <td>[tips, 2014, Michelle]</td>\n",
       "    </tr>\n",
       "    <tr>\n",
       "      <th>13</th>\n",
       "      <td>39</td>\n",
       "      <td>0</td>\n",
       "      <td>[rating, 3.5, businesses]</td>\n",
       "      <td>0</td>\n",
       "      <td>[rating, 3.5, businesses]</td>\n",
       "    </tr>\n",
       "    <tr>\n",
       "      <th>14</th>\n",
       "      <td>42</td>\n",
       "      <td>0</td>\n",
       "      <td>[pet groomers, reviews, 100]</td>\n",
       "      <td>0</td>\n",
       "      <td>[pet groomers, reviews, 100]</td>\n",
       "    </tr>\n",
       "    <tr>\n",
       "      <th>15</th>\n",
       "      <td>55</td>\n",
       "      <td>0</td>\n",
       "      <td>[Mesa Grill, users, restaurant]</td>\n",
       "      <td>0</td>\n",
       "      <td>[Mesa Grill, users, restaurant]</td>\n",
       "    </tr>\n",
       "    <tr>\n",
       "      <th>16</th>\n",
       "      <td>62</td>\n",
       "      <td>0</td>\n",
       "      <td>[Patrick, bars]</td>\n",
       "      <td>0</td>\n",
       "      <td>[Patrick, bars]</td>\n",
       "    </tr>\n",
       "    <tr>\n",
       "      <th>17</th>\n",
       "      <td>67</td>\n",
       "      <td>0</td>\n",
       "      <td>[Barrio Cafe, checkins, day, restaurant]</td>\n",
       "      <td>0</td>\n",
       "      <td>[Barrio Cafe, checkins, day, restaurant]</td>\n",
       "    </tr>\n",
       "    <tr>\n",
       "      <th>18</th>\n",
       "      <td>79</td>\n",
       "      <td>0</td>\n",
       "      <td>[reviews, Adrienne]</td>\n",
       "      <td>1</td>\n",
       "      <td>[reviews, Adrienne]</td>\n",
       "    </tr>\n",
       "    <tr>\n",
       "      <th>19</th>\n",
       "      <td>81</td>\n",
       "      <td>0</td>\n",
       "      <td>[businesses, 2010, Michelle]</td>\n",
       "      <td>0</td>\n",
       "      <td>[businesses, 2010, Michelle]</td>\n",
       "    </tr>\n",
       "  </tbody>\n",
       "</table>\n",
       "</div>"
      ],
      "text/plain": [
       "    id  position_x                                   query_x  position_y  \\\n",
       "0    4           0                        [3.5, restaurants]           0   \n",
       "1    5           0                         [4.5, businesses]           0   \n",
       "2    6           0                        [3.5, restaurants]           0   \n",
       "3    8           0           [cities, Taj Mahal, restaurant]           0   \n",
       "4   15           0                 [reviews, Niloofar, 2015]           0   \n",
       "5   16           0               [5.0, Niloofar, businesses]           0   \n",
       "6   17           0               [reviews, rating, Michelle]           0   \n",
       "7   18           0                      [checkins, business]           0   \n",
       "8   20           0            [Cafe Zinho, friday, checkins]           0   \n",
       "9   29           0                   [tips, likes, Niloofar]           0   \n",
       "10  30           0                 [Cafe Zinho, tips, likes]           0   \n",
       "11  31           0       [Cafe Zinho, tips, likes, Niloofar]           0   \n",
       "12  32           0                    [tips, 2014, Michelle]           0   \n",
       "13  39           0                 [rating, 3.5, businesses]           0   \n",
       "14  42           0              [pet groomers, reviews, 100]           0   \n",
       "15  55           0           [Mesa Grill, users, restaurant]           0   \n",
       "16  62           0                           [Patrick, bars]           0   \n",
       "17  67           0  [Barrio Cafe, checkins, day, restaurant]           0   \n",
       "18  79           0                       [reviews, Adrienne]           1   \n",
       "19  81           0              [businesses, 2010, Michelle]           0   \n",
       "\n",
       "                                     query_y  \n",
       "0                         [3.5, restaurants]  \n",
       "1                          [4.5, businesses]  \n",
       "2                         [3.5, restaurants]  \n",
       "3            [cities, Taj Mahal, restaurant]  \n",
       "4                  [reviews, Niloofar, 2015]  \n",
       "5                [5.0, Niloofar, businesses]  \n",
       "6                [reviews, rating, Michelle]  \n",
       "7                       [checkins, business]  \n",
       "8             [Cafe Zinho, friday, checkins]  \n",
       "9                    [tips, likes, Niloofar]  \n",
       "10                 [Cafe Zinho, tips, likes]  \n",
       "11       [Cafe Zinho, tips, likes, Niloofar]  \n",
       "12                    [tips, 2014, Michelle]  \n",
       "13                 [rating, 3.5, businesses]  \n",
       "14              [pet groomers, reviews, 100]  \n",
       "15           [Mesa Grill, users, restaurant]  \n",
       "16                           [Patrick, bars]  \n",
       "17  [Barrio Cafe, checkins, day, restaurant]  \n",
       "18                       [reviews, Adrienne]  \n",
       "19              [businesses, 2010, Michelle]  "
      ]
     },
     "execution_count": 90,
     "metadata": {},
     "output_type": "execute_result"
    }
   ],
   "source": [
    "frame_merged.head(20)"
   ]
  },
  {
   "cell_type": "code",
   "execution_count": 77,
   "id": "corresponding-gallery",
   "metadata": {},
   "outputs": [],
   "source": [
    "lst = [(x[1]['id'], x[1]['position_x'], x[1]['position_y']) for x in frame_merged.loc[frame_merged['position_x'] - frame_merged['position_y'] == -1][['id', 'position_x', 'position_y']].iterrows() ]\n"
   ]
  },
  {
   "cell_type": "code",
   "execution_count": 78,
   "id": "attached-shift",
   "metadata": {},
   "outputs": [
    {
     "data": {
      "text/plain": [
       "[(79, 0, 1),\n",
       " (95, 0, 1),\n",
       " (127, 0, 1),\n",
       " (51, 2, 3),\n",
       " (48, 4, 5),\n",
       " (69, 6, 7),\n",
       " (98, 6, 7),\n",
       " (88, 11, 12),\n",
       " (97, 12, 13),\n",
       " (103, 48, 49)]"
      ]
     },
     "execution_count": 78,
     "metadata": {},
     "output_type": "execute_result"
    }
   ],
   "source": [
    "lst"
   ]
  },
  {
   "cell_type": "code",
   "execution_count": 79,
   "id": "photographic-colors",
   "metadata": {},
   "outputs": [],
   "source": [
    "lst += [(x[1]['id'], x[1]['position_x'], x[1]['position_y']) for x in frame_merged.loc[frame_merged['position_x'] - frame_merged['position_y'] == 1][['id', 'position_x', 'position_y']].iterrows() ]"
   ]
  },
  {
   "cell_type": "code",
   "execution_count": 80,
   "id": "breeding-phone",
   "metadata": {},
   "outputs": [
    {
     "data": {
      "text/plain": [
       "[(79, 0, 1),\n",
       " (95, 0, 1),\n",
       " (127, 0, 1),\n",
       " (51, 2, 3),\n",
       " (48, 4, 5),\n",
       " (69, 6, 7),\n",
       " (98, 6, 7),\n",
       " (88, 11, 12),\n",
       " (97, 12, 13),\n",
       " (103, 48, 49),\n",
       " (23, 1, 0),\n",
       " (28, 1, 0),\n",
       " (77, 1, 0),\n",
       " (78, 2, 1),\n",
       " (84, 2, 1),\n",
       " (45, 3, 2),\n",
       " (19, 4, 3),\n",
       " (27, 4, 3),\n",
       " (128, 4, 3),\n",
       " (2, 7, 6),\n",
       " (9, 7, 6),\n",
       " (73, 10, 9),\n",
       " (11, 35, 34)]"
      ]
     },
     "execution_count": 80,
     "metadata": {},
     "output_type": "execute_result"
    }
   ],
   "source": [
    "lst"
   ]
  },
  {
   "cell_type": "code",
   "execution_count": 83,
   "id": "classified-mississippi",
   "metadata": {},
   "outputs": [
    {
     "name": "stdout",
     "output_type": "stream",
     "text": [
      "[(0, 3), (3, 6), (6, 9), (9, 11)] [(1, 0, 19), (2, 0, 100), (2, 101, 171), (3, 0, 243), (3, 244, 487), (3, 488, 731), (3, 732, 969), (4, 0, 969), (4, 970, 1939), (4, 1940, 2909), (4, 2910, 3876)]\n",
      "[(0, 3), (3, 6), (6, 9), (9, 11)] [(1, 0, 16), (2, 0, 100), (2, 101, 120), (3, 0, 140), (3, 141, 281), (3, 282, 422), (3, 423, 560), (4, 0, 455), (4, 456, 911), (4, 912, 1367), (4, 1368, 1820)]\n",
      "len 6\n",
      "percent: 0.1\n",
      "percent: 0.3\n",
      "percent: 0.5\n",
      "percent: 0.6\n",
      "percent: 0.8\n",
      "percent: 1.0\n",
      "[(0, 4), (4, 8), (8, 12), (12, 15)] [(1, 0, 20), (2, 0, 100), (2, 101, 190), (3, 0, 285), (3, 286, 571), (3, 572, 857), (3, 858, 1140), (4, 0, 1212), (4, 1213, 2425), (4, 2426, 3638), (4, 3639, 4845), (5, 0, 3876), (5, 3877, 7753), (5, 7754, 11630), (5, 11631, 15504)]\n",
      "len 6\n",
      "percent: 0.1\n",
      "percent: 0.3\n",
      "percent: 0.5\n",
      "percent: 0.6\n",
      "percent: 0.8\n",
      "percent: 1.0\n",
      "[(0, 3), (3, 6), (6, 9), (9, 10)] [(1, 0, 14), (2, 0, 91), (3, 0, 100), (3, 101, 201), (3, 202, 302), (3, 303, 364), (4, 0, 251), (4, 252, 503), (4, 504, 755), (4, 756, 1001)]\n",
      "[(0, 4), (4, 8), (8, 12), (12, 15)] [(1, 0, 16), (2, 0, 100), (2, 101, 120), (3, 0, 140), (3, 141, 281), (3, 282, 422), (3, 423, 560), (4, 0, 455), (4, 456, 911), (4, 912, 1367), (4, 1368, 1820), (5, 0, 1092), (5, 1093, 2185), (5, 2186, 3278), (5, 3279, 4368)]\n"
     ]
    }
   ],
   "source": [
    "result = []\n",
    "for item in lst:\n",
    "    mapper = Mapper()\n",
    "    data = mapper.get_matches(k2d_yelp_gt[item[0]-1]['segments'])\n",
    "    scores = [data[item[1]].total_score, data[item[2]].total_score]\n",
    "    result += [(item[0], scores[0] == scores[1])]\n",
    "    "
   ]
  },
  {
   "cell_type": "code",
   "execution_count": 88,
   "id": "incident-happiness",
   "metadata": {},
   "outputs": [
    {
     "data": {
      "text/plain": [
       "[(48, False),\n",
       " (69, False),\n",
       " (98, False),\n",
       " (88, False),\n",
       " (103, False),\n",
       " (23, False),\n",
       " (28, False),\n",
       " (78, False),\n",
       " (84, False),\n",
       " (45, False),\n",
       " (19, False),\n",
       " (27, False),\n",
       " (128, False),\n",
       " (2, False),\n",
       " (9, False),\n",
       " (73, False),\n",
       " (11, False)]"
      ]
     },
     "execution_count": 88,
     "metadata": {},
     "output_type": "execute_result"
    }
   ],
   "source": [
    "test = []\n"
   ]
  },
  {
   "cell_type": "code",
   "execution_count": null,
   "id": "normal-hospital",
   "metadata": {},
   "outputs": [],
   "source": []
  },
  {
   "cell_type": "code",
   "execution_count": 8,
   "id": "fifteen-warren",
   "metadata": {},
   "outputs": [],
   "source": [
    "fault_k2d_ids = nalir_query_ids - k2d_query_ids"
   ]
  },
  {
   "cell_type": "code",
   "execution_count": 9,
   "id": "russian-eagle",
   "metadata": {},
   "outputs": [],
   "source": [
    "fault_new_k2d = k2d_new_ids - k2d_query_ids"
   ]
  },
  {
   "cell_type": "code",
   "execution_count": 15,
   "id": "duplicate-reflection",
   "metadata": {},
   "outputs": [],
   "source": [
    "queries_to_test = [(k2d_yelp_gt[x-1]['segments'], x) for x in fault_new_k2d]"
   ]
  },
  {
   "cell_type": "code",
   "execution_count": 16,
   "id": "prospective-bristol",
   "metadata": {},
   "outputs": [
    {
     "data": {
      "text/plain": [
       "[(['reviews', 'Michelle', 'businesses', 'user', 'month'], 77),\n",
       " (['reviews', 'rating', 'Michelle'], 17),\n",
       " (['Cafe Zinho', 'fridays', 'checkins'], 20),\n",
       " (['reviews', 'user'], 22),\n",
       " (['Sundays', 'checkins'], 121)]"
      ]
     },
     "execution_count": 16,
     "metadata": {},
     "output_type": "execute_result"
    }
   ],
   "source": [
    "queries_to_test"
   ]
  },
  {
   "cell_type": "code",
   "execution_count": 20,
   "id": "noble-ottawa",
   "metadata": {},
   "outputs": [
    {
     "data": {
      "text/plain": [
       "37"
      ]
     },
     "execution_count": 20,
     "metadata": {},
     "output_type": "execute_result"
    }
   ],
   "source": [
    "[x['query_id'] for x in k2d_new_data if x['query_candidate_item'] == -1]"
   ]
  },
  {
   "cell_type": "code",
   "execution_count": 88,
   "id": "ordinary-limit",
   "metadata": {},
   "outputs": [
    {
     "data": {
      "text/plain": [
       "{4, 6, 18, 28, 32, 39, 71, 107, 113, 114, 116, 118, 120, 126}"
      ]
     },
     "execution_count": 88,
     "metadata": {},
     "output_type": "execute_result"
    }
   ],
   "source": [
    "k2d_query_ids - nalir_query_ids"
   ]
  },
  {
   "cell_type": "code",
   "execution_count": 13,
   "id": "seven-participation",
   "metadata": {},
   "outputs": [
    {
     "data": {
      "text/plain": [
       "[86]"
      ]
     },
     "execution_count": 13,
     "metadata": {},
     "output_type": "execute_result"
    }
   ],
   "source": [
    "[x['query_id'] for x in k2d_yelp_gt if 'apple stores' in x['query'].lower() ]"
   ]
  },
  {
   "cell_type": "code",
   "execution_count": 15,
   "id": "nasty-official",
   "metadata": {},
   "outputs": [
    {
     "ename": "NameError",
     "evalue": "name 'fault_k2d_ids' is not defined",
     "output_type": "error",
     "traceback": [
      "\u001b[0;31m---------------------------------------------------------------------------\u001b[0m",
      "\u001b[0;31mNameError\u001b[0m                                 Traceback (most recent call last)",
      "\u001b[0;32m<ipython-input-15-7669af2b0904>\u001b[0m in \u001b[0;36m<module>\u001b[0;34m\u001b[0m\n\u001b[0;32m----> 1\u001b[0;31m \u001b[0mnalir_fault_mapping\u001b[0m \u001b[0;34m=\u001b[0m \u001b[0;34m[\u001b[0m\u001b[0;34m(\u001b[0m\u001b[0mx\u001b[0m\u001b[0;34m,\u001b[0m \u001b[0mk2d_gt_data\u001b[0m\u001b[0;34m[\u001b[0m\u001b[0mx\u001b[0m\u001b[0;34m-\u001b[0m\u001b[0;36m1\u001b[0m\u001b[0;34m]\u001b[0m\u001b[0;34m[\u001b[0m\u001b[0;34m'query_candidate_item'\u001b[0m\u001b[0;34m]\u001b[0m\u001b[0;34m,\u001b[0m \u001b[0mk2d_new_data\u001b[0m\u001b[0;34m[\u001b[0m\u001b[0mx\u001b[0m\u001b[0;34m-\u001b[0m\u001b[0;36m1\u001b[0m\u001b[0;34m]\u001b[0m\u001b[0;34m[\u001b[0m\u001b[0;34m''\u001b[0m\u001b[0;34m]\u001b[0m \u001b[0;34m,\u001b[0m\u001b[0mk2d_yelp_gt\u001b[0m\u001b[0;34m[\u001b[0m\u001b[0mx\u001b[0m\u001b[0;34m-\u001b[0m\u001b[0;36m1\u001b[0m\u001b[0;34m]\u001b[0m\u001b[0;34m[\u001b[0m\u001b[0;34m'segments'\u001b[0m\u001b[0;34m]\u001b[0m\u001b[0;34m)\u001b[0m \u001b[0;32mfor\u001b[0m \u001b[0mx\u001b[0m \u001b[0;32min\u001b[0m \u001b[0mfault_k2d_ids\u001b[0m\u001b[0;34m]\u001b[0m\u001b[0;34m\u001b[0m\u001b[0;34m\u001b[0m\u001b[0m\n\u001b[0m",
      "\u001b[0;31mNameError\u001b[0m: name 'fault_k2d_ids' is not defined"
     ]
    }
   ],
   "source": [
    "nalir_fault_mapping = [(x, k2d_gt_data[x-1]['query_candidate_item'], k2d_new_data[x-1][''] ,k2d_yelp_gt[x-1]['segments']) for x in fault_k2d_ids]"
   ]
  },
  {
   "cell_type": "code",
   "execution_count": 28,
   "id": "liberal-hormone",
   "metadata": {},
   "outputs": [
    {
     "data": {
      "text/plain": [
       "[(1, 9, 11, ['texas', 'moroccan', 'restaurants']),\n",
       " (2, 9, 10, ['Italian', 'Los Angeles', 'restaurants']),\n",
       " (3, 2, 2, ['Madison', 'preschools']),\n",
       " (9, 9, 10, ['checkins', 'Los Angeles', 'Moroccan', 'restaurants']),\n",
       " (11, 45, 50, ['day', 'checkins', 'Los Angeles', 'Moroccan', 'restaurants']),\n",
       " (21, -1, -1, ['reviews', 'Cafe Zinho', 'Texas', 'restaurants']),\n",
       " (34, 4, 5, ['Texas', 'restaurants']),\n",
       " (36, 22, 33, ['Madison', 'Italian', 'neighborhoods', 'restaurants']),\n",
       " (40, 4, 5, ['Texas', 'restaurants']),\n",
       " (45, 2, 6, ['gyms', 'Los Angeles']),\n",
       " (46, 4, 4, ['dentists', 'Los Angeles']),\n",
       " (48, 5, 5, ['bars', 'Dallas']),\n",
       " (53, -1, -1, ['Hazelwood', 'Dallas', 'district', 'restaurants']),\n",
       " (60, 6, 6, ['Patrick', 'Los Angeles', 'restaurants']),\n",
       " (66, 10, 14, ['Egyptian', 'Edinburgh', 'restaurants']),\n",
       " (69, 9, 11, ['Patrick', 'Dallas', 'user', 'restaurants']),\n",
       " (73, 12, 13, ['seafood', 'Los Angeles', 'restaurants']),\n",
       " (78, -1, 1, ['pet hospices', 'Pittsburgh']),\n",
       " (84, 1, 6, ['Pittsburgh', 'bistros']),\n",
       " (85, 7, 7, ['bakeries', 'Los Angeles']),\n",
       " (87, -1, -1, ['Target', 'Los Angeles']),\n",
       " (91, 2, 5, ['breweries', 'Los Angeles']),\n",
       " (110, -1, -1, ['Cafe Zinho', 'tips', 'Texas']),\n",
       " (123, 35, 35, ['reviews', 'March'])]"
      ]
     },
     "execution_count": 28,
     "metadata": {},
     "output_type": "execute_result"
    }
   ],
   "source": [
    "nalir_fault_mapping"
   ]
  },
  {
   "cell_type": "code",
   "execution_count": 17,
   "id": "coordinated-joshua",
   "metadata": {},
   "outputs": [
    {
     "data": {
      "text/plain": [
       "1"
      ]
     },
     "execution_count": 17,
     "metadata": {},
     "output_type": "execute_result"
    }
   ],
   "source": [
    "len([x for x in nalir_fault_mapping if x[1]  == -1 and x[2] != -1 ])"
   ]
  },
  {
   "cell_type": "code",
   "execution_count": 49,
   "id": "fatal-sessions",
   "metadata": {},
   "outputs": [
    {
     "name": "stdout",
     "output_type": "stream",
     "text": [
      "---------------------\n",
      "---------------------\n",
      "---------------------\n",
      "------------------------------------------\n",
      "\n",
      "---------------------------------------------------------------\n",
      "\n",
      "\n",
      "---------------------\n",
      "------------------------------------------\n",
      "\n",
      "---------------------\n",
      "---------------------\n",
      "---------------------\n",
      "------------------------------------------\n",
      "\n",
      "------------------------------------------\n",
      "---------------------\n",
      "\n",
      "---------------------\n",
      "---------------------\n",
      "------------------------------------------\n",
      "\n",
      "---------------------\n",
      "---------------------\n",
      "---------------------\n",
      "---------------------\n",
      "---------------------\n",
      "---------------------\n",
      "---------------------\n",
      "---------------------\n",
      "---------------------\n",
      "---------------------\n",
      "---------------------\n",
      "---------------------\n",
      "---------------------\n",
      "---------------------\n",
      "---------------------\n",
      "------------------------------------------\n",
      "\n",
      "---------------------\n",
      "---------------------\n",
      "---------------------\n",
      "------------------------------------------\n",
      "---------------------\n",
      "---------------------\n",
      "\n",
      "------------------------------------------\n",
      "\n",
      "---------------------\n",
      "---------------------------------------------------------------\n",
      "\n",
      "\n",
      "---------------------\n",
      "------------------------------------------\n",
      "\n",
      "---------------------\n",
      "---------------------\n",
      "------------------------------------------\n",
      "\n",
      "---------------------\n",
      "---------------------\n",
      "------------------------------------------\n",
      "\n",
      "---------------------\n",
      "------------------------------------------\n",
      "\n",
      "---------------------\n",
      "---------------------\n",
      "------------------------------------------\n",
      "\n",
      "---------------------\n",
      "---------------------\n",
      "------------------------------------------\n",
      "\n",
      "---------------------\n",
      "------------------------------------------\n",
      "\n",
      "------------------------------------------\n",
      "\n",
      "---------------------\n",
      "---------------------\n",
      "---------------------\n",
      "---------------------\n",
      "---------------------\n",
      "------------------------------------------\n",
      "\n",
      "---------------------\n",
      "---------------------\n",
      "---------------------\n",
      "---------------------\n",
      "---------------------\n",
      "---------------------\n",
      "---------------------\n",
      "---------------------\n",
      "---------------------\n",
      "---------------------\n",
      "---------------------\n",
      "---------------------\n",
      "---------------------\n",
      "---------------------\n",
      "---------------------\n",
      "------------------------------------------\n",
      "\n",
      "---------------------\n",
      "---------------------\n",
      "------------------------------------------\n",
      "---------------------\n",
      "---------------------\n",
      "\n",
      "---------------------\n",
      "---------------------\n",
      "------------------------------------------\n",
      "\n",
      "------------------------------------------\n",
      "---------------------\n",
      "\n",
      "---------------------\n",
      "---------------------\n",
      "------------------------------------------\n",
      "\n",
      "---------------------\n",
      "---------------------\n",
      "---------------------\n",
      "---------------------\n",
      "---------------------\n",
      "---------------------\n",
      "---------------------\n"
     ]
    }
   ],
   "source": [
    "mapper = Mapper()\n",
    "data = mapper.get_matches(k2d_yelp_gt[41]['segments'])"
   ]
  },
  {
   "cell_type": "code",
   "execution_count": 88,
   "id": "extraordinary-right",
   "metadata": {},
   "outputs": [
    {
     "data": {
      "text/plain": [
       "[{CATEGORY.v(category_name{restaurants}), BUSINESS.v(name{5,star}), CATEGORY.v(category_name{italian})},\n",
       " {CATEGORY.v(category_name{restaurants}), BUSINESS.v(name{italian}), BUSINESS.v(name{5,star})},\n",
       " {BUSINESS.v(name{5,star},review_count{5}), CATEGORY.v(category_name{restaurants}), CATEGORY.v(category_name{italian})},\n",
       " {BUSINESS.v(name{5,star},review_count{5}), CATEGORY.v(category_name{restaurants}), BUSINESS.v(name{italian})},\n",
       " {CATEGORY.v(category_name{restaurants}), BUSINESS.v(name{5,star}), BUSINESS.v(name{italian},review_count{5})},\n",
       " {CATEGORY.v(category_name{restaurants}), BUSINESS.v(name{star},review_count{5}), CATEGORY.v(category_name{italian})},\n",
       " {CATEGORY.v(category_name{restaurants}), BUSINESS.v(name{star},review_count{5}), BUSINESS.v(name{italian})}]"
      ]
     },
     "execution_count": 88,
     "metadata": {},
     "output_type": "execute_result"
    }
   ],
   "source": [
    "data[0:7]"
   ]
  },
  {
   "cell_type": "code",
   "execution_count": 52,
   "id": "preliminary-gabriel",
   "metadata": {},
   "outputs": [
    {
     "data": {
      "text/plain": [
       "'Find all \"pet groomers\" which have more than 100 reviews'"
      ]
     },
     "execution_count": 52,
     "metadata": {},
     "output_type": "execute_result"
    }
   ],
   "source": [
    "k2d_yelp_gt[41]['query']"
   ]
  },
  {
   "cell_type": "code",
   "execution_count": 53,
   "id": "printable-panic",
   "metadata": {},
   "outputs": [
    {
     "data": {
      "text/plain": [
       "[0.0001269978017204433,\n",
       " 0.00011288693486261625,\n",
       " 8.46652011469622e-05,\n",
       " 7.52579565750775e-05,\n",
       " 7.484345700617755e-05,\n",
       " 7.203604388527111e-05,\n",
       " 7.129701149217869e-05]"
      ]
     },
     "execution_count": 53,
     "metadata": {},
     "output_type": "execute_result"
    }
   ],
   "source": [
    "[x.total_score for x in data[0:7]]"
   ]
  },
  {
   "cell_type": "code",
   "execution_count": 5,
   "id": "macro-progressive",
   "metadata": {},
   "outputs": [
    {
     "data": {
      "text/plain": [
       "4.6742099872341944e-05"
      ]
     },
     "execution_count": 5,
     "metadata": {},
     "output_type": "execute_result"
    }
   ],
   "source": [
    "data[0].total_score - data[6].total_score"
   ]
  },
  {
   "cell_type": "code",
   "execution_count": 223,
   "id": "systematic-third",
   "metadata": {},
   "outputs": [
    {
     "data": {
      "text/plain": [
       "[1.1612836236431128e-11, 9.032205961668656e-12]"
      ]
     },
     "execution_count": 223,
     "metadata": {},
     "output_type": "execute_result"
    }
   ],
   "source": [
    "[x.total_score for x in data[0:2]]"
   ]
  },
  {
   "cell_type": "code",
   "execution_count": 230,
   "id": "buried-plaintiff",
   "metadata": {},
   "outputs": [
    {
     "data": {
      "text/plain": [
       "{BUSINESS.v(city{edinburgh}),\n",
       " CATEGORY.v(category_name{egyptian}),\n",
       " CATEGORY.v(category_name{restaurants})}"
      ]
     },
     "execution_count": 230,
     "metadata": {},
     "output_type": "execute_result"
    }
   ],
   "source": [
    "evaluation.evaluation_items[65].query_match"
   ]
  },
  {
   "cell_type": "code",
   "execution_count": 205,
   "id": "external-validity",
   "metadata": {},
   "outputs": [
    {
     "data": {
      "text/plain": [
       "[{'table': 'review',\n",
       "  'schema_filter': [{'attribute': 'month', 'keywords': ['march']},\n",
       "   {'attribute': 'text', 'keywords': ['reviews']}],\n",
       "  'value_filter': []}]"
      ]
     },
     "execution_count": 205,
     "metadata": {},
     "output_type": "execute_result"
    }
   ],
   "source": [
    "k2d_gt_data[122]['query_matches'][0]"
   ]
  },
  {
   "cell_type": "code",
   "execution_count": 58,
   "id": "adaptive-brand",
   "metadata": {},
   "outputs": [
    {
     "data": {
      "text/plain": [
       "[{'table': 'business',\n",
       "  'schema_filter': [],\n",
       "  'value_filter': [{'attribute': 'name', 'keywords': ['Cafe', 'Zinho']},\n",
       "   {'attribute': 'state', 'keywords': ['Texas']}]},\n",
       " {'table': 'tip',\n",
       "  'schema_filter': [{'attribute': 'text', 'keywords': ['tips']}],\n",
       "  'value_filter': []}]"
      ]
     },
     "execution_count": 58,
     "metadata": {},
     "output_type": "execute_result"
    }
   ],
   "source": [
    "k2d_yelp_gt[109]['query_matches']"
   ]
  },
  {
   "cell_type": "code",
   "execution_count": 32,
   "id": "operating-natural",
   "metadata": {},
   "outputs": [
    {
     "name": "stdout",
     "output_type": "stream",
     "text": [
      "loading query file...\n"
     ]
    }
   ],
   "source": [
    "from evaluation import EvaluationHandler, EvaluationItem\n",
    "\n",
    "evaluation = EvaluationHandler()\n",
    "evaluation.load_query_file()"
   ]
  },
  {
   "cell_type": "code",
   "execution_count": 34,
   "id": "brutal-cinema",
   "metadata": {},
   "outputs": [
    {
     "data": {
      "text/plain": [
       "{BUSINESS.v(rating{3.5}), CATEGORY.v(category_name{restaurants})}"
      ]
     },
     "execution_count": 34,
     "metadata": {},
     "output_type": "execute_result"
    }
   ],
   "source": [
    "evaluation.evaluation_items[3].query_match"
   ]
  },
  {
   "cell_type": "code",
   "execution_count": 36,
   "id": "pursuant-imperial",
   "metadata": {},
   "outputs": [
    {
     "name": "stdout",
     "output_type": "stream",
     "text": [
      "0\n"
     ]
    }
   ],
   "source": [
    "compare_item = EvaluationItem()\n",
    "fix_data = evaluation._fix_matches(data)\n",
    "for i,x in enumerate(data):\n",
    "    compare_item.query_match = x\n",
    "    \n",
    "    if compare_item == evaluation.evaluation_items[3]:\n",
    "        print(i)\n",
    "    "
   ]
  },
  {
   "cell_type": "code",
   "execution_count": 110,
   "id": "sonic-irrigation",
   "metadata": {},
   "outputs": [
    {
     "name": "stdout",
     "output_type": "stream",
     "text": [
      "[('v', 'business', 'state', 'texas'), ('v', 'business', 'name', 'cafe'), ('v', 'business', 'name', 'zinho'), ('s', 'tip', 'text', 'tips')] [('v', 'business', 'name', 'cafe'), ('v', 'business', 'name', 'zinho'), ('s', 'tip', 'text', 'tips'), ('v', 'business', 'state', 'texas')]\n",
      "equal\n"
     ]
    },
    {
     "data": {
      "text/plain": [
       "True"
      ]
     },
     "execution_count": 110,
     "metadata": {},
     "output_type": "execute_result"
    }
   ],
   "source": [
    "compare_item = EvaluationItem()\n",
    "compare_item.build_from_json({'segments': [], 'query_id': -1, 'query_matches': k2d_gt_data[109]['query_matches'][3]})\n",
    "compare_item == evaluation.evaluation_items[109]"
   ]
  },
  {
   "cell_type": "code",
   "execution_count": 105,
   "id": "joint-glance",
   "metadata": {},
   "outputs": [
    {
     "data": {
      "text/plain": [
       "[[{'table': 'business',\n",
       "   'schema_filter': [{'attribute': 'review_count', 'keywords': ['reviews']}],\n",
       "   'value_filter': []},\n",
       "  {'table': 'user',\n",
       "   'schema_filter': [],\n",
       "   'value_filter': [{'attribute': 'name', 'keywords': ['niloofar']}]}],\n",
       " [{'table': 'review',\n",
       "   'schema_filter': [{'attribute': 'text', 'keywords': ['reviews']}],\n",
       "   'value_filter': []},\n",
       "  {'table': 'user',\n",
       "   'schema_filter': [],\n",
       "   'value_filter': [{'attribute': 'name', 'keywords': ['niloofar']}]}],\n",
       " [{'table': 'review',\n",
       "   'schema_filter': [{'attribute': 'rating', 'keywords': ['reviews']}],\n",
       "   'value_filter': []},\n",
       "  {'table': 'user',\n",
       "   'schema_filter': [],\n",
       "   'value_filter': [{'attribute': 'name', 'keywords': ['niloofar']}]}],\n",
       " [{'table': 'business',\n",
       "   'schema_filter': [{'attribute': 'rating', 'keywords': ['reviews']}],\n",
       "   'value_filter': []},\n",
       "  {'table': 'user',\n",
       "   'schema_filter': [],\n",
       "   'value_filter': [{'attribute': 'name', 'keywords': ['niloofar']}]}],\n",
       " [{'table': 'checkin',\n",
       "   'schema_filter': [{'attribute': 'count', 'keywords': ['reviews']}],\n",
       "   'value_filter': []},\n",
       "  {'table': 'user',\n",
       "   'schema_filter': [],\n",
       "   'value_filter': [{'attribute': 'name', 'keywords': ['niloofar']}]}],\n",
       " [{'table': 'review',\n",
       "   'schema_filter': [{'attribute': 'text', 'keywords': ['reviews']}],\n",
       "   'value_filter': []},\n",
       "  {'table': 'user',\n",
       "   'schema_filter': [],\n",
       "   'value_filter': [{'attribute': 'name', 'keywords': ['niloofar']}]}],\n",
       " [{'table': 'tip',\n",
       "   'schema_filter': [{'attribute': 'text', 'keywords': ['reviews']}],\n",
       "   'value_filter': []},\n",
       "  {'table': 'user',\n",
       "   'schema_filter': [],\n",
       "   'value_filter': [{'attribute': 'name', 'keywords': ['niloofar']}]}],\n",
       " [{'table': 'user',\n",
       "   'schema_filter': [],\n",
       "   'value_filter': [{'attribute': 'name', 'keywords': ['reviews']}]},\n",
       "  {'table': 'user',\n",
       "   'schema_filter': [],\n",
       "   'value_filter': [{'attribute': 'name', 'keywords': ['niloofar']}]}]]"
      ]
     },
     "execution_count": 105,
     "metadata": {},
     "output_type": "execute_result"
    }
   ],
   "source": [
    " k2d_gt_data[12]['query_matches']"
   ]
  },
  {
   "cell_type": "code",
   "execution_count": 113,
   "id": "equivalent-spank",
   "metadata": {},
   "outputs": [
    {
     "data": {
      "text/plain": [
       "{REVIEW.s(text{reviews}), USER.v(name{niloofar})}"
      ]
     },
     "execution_count": 113,
     "metadata": {},
     "output_type": "execute_result"
    }
   ],
   "source": [
    "compare_item = EvaluationItem()\n",
    "compare_item.build_from_json({'segments': [], 'query_id': -1, 'query_matches': k2d_gt_data[12]['query_matches'][1]})\n",
    "compare_item.query_match"
   ]
  },
  {
   "cell_type": "code",
   "execution_count": 115,
   "id": "driven-endorsement",
   "metadata": {},
   "outputs": [
    {
     "name": "stdout",
     "output_type": "stream",
     "text": [
      "[('s', 'review', 'text', 'reviews'), ('v', 'user', 'name', 'niloofar')] [('s', 'review', 'text', 'reviews'), ('v', 'user', 'name', 'niloofar')]\n",
      "equal\n"
     ]
    },
    {
     "data": {
      "text/plain": [
       "True"
      ]
     },
     "execution_count": 115,
     "metadata": {},
     "output_type": "execute_result"
    }
   ],
   "source": [
    "evaluation.evaluation_items[12] == compare_item"
   ]
  },
  {
   "cell_type": "code",
   "execution_count": 118,
   "id": "ultimate-personality",
   "metadata": {},
   "outputs": [],
   "source": [
    "yelp_nalir_inputs = '../../data/nalir_inputs/yelp_nalir_inputs.v01.json'\n",
    "yelp_data = []"
   ]
  },
  {
   "cell_type": "code",
   "execution_count": 125,
   "id": "tested-option",
   "metadata": {},
   "outputs": [],
   "source": [
    "with open(yelp_nalir_inputs, 'r') as f:\n",
    "    yelp_data = [x['id'] for x in json.load(f) if x['equal_gt'] == False]"
   ]
  },
  {
   "cell_type": "code",
   "execution_count": 126,
   "id": "introductory-illustration",
   "metadata": {},
   "outputs": [
    {
     "data": {
      "text/plain": [
       "[1,\n",
       " 15,\n",
       " 23,\n",
       " 25,\n",
       " 28,\n",
       " 32,\n",
       " 33,\n",
       " 47,\n",
       " 49,\n",
       " 50,\n",
       " 51,\n",
       " 53,\n",
       " 56,\n",
       " 57,\n",
       " 66,\n",
       " 70,\n",
       " 76,\n",
       " 79,\n",
       " 80,\n",
       " 81,\n",
       " 82,\n",
       " 87,\n",
       " 88,\n",
       " 97,\n",
       " 103,\n",
       " 108,\n",
       " 125]"
      ]
     },
     "execution_count": 126,
     "metadata": {},
     "output_type": "execute_result"
    }
   ],
   "source": [
    "yelp_data"
   ]
  },
  {
   "cell_type": "code",
   "execution_count": 183,
   "id": "rural-comment",
   "metadata": {},
   "outputs": [],
   "source": [
    "nalir_inputs = '../../data/nalir_inputs/yelp_nalir_inputs.results.final.json'"
   ]
  },
  {
   "cell_type": "code",
   "execution_count": 187,
   "id": "romantic-raleigh",
   "metadata": {},
   "outputs": [
    {
     "name": "stdout",
     "output_type": "stream",
     "text": [
      "{'query_id': 50, 'query_candidate_item': -1}\n"
     ]
    }
   ],
   "source": [
    "nalir_inpus_data = {}\n",
    "data = []\n",
    "with open(nalir_inputs, 'r') as f:\n",
    "    for line in f:\n",
    "        d = json.loads(line)\n",
    "        if d['query_id'] in yelp_data:\n",
    "            data += [(d['query_id'], d['query_candidate_item'])]\n",
    "            if 'query_matches' in d:\n",
    "                nalir_inpus_data[d['query_id']] = d['query_matches']\n",
    "            else:\n",
    "                print(d)"
   ]
  },
  {
   "cell_type": "code",
   "execution_count": 188,
   "id": "spanish-casting",
   "metadata": {},
   "outputs": [
    {
     "data": {
      "text/plain": [
       "[(1, 9),\n",
       " (15, -1),\n",
       " (23, -1),\n",
       " (25, 0),\n",
       " (28, 10),\n",
       " (32, 14),\n",
       " (33, 26),\n",
       " (47, 9),\n",
       " (49, 0),\n",
       " (50, -1),\n",
       " (51, -1),\n",
       " (53, 12),\n",
       " (56, 2),\n",
       " (57, -1),\n",
       " (66, 6),\n",
       " (70, -1),\n",
       " (76, 29),\n",
       " (79, 14),\n",
       " (80, 112),\n",
       " (81, 12),\n",
       " (82, 17),\n",
       " (87, 0),\n",
       " (88, 3),\n",
       " (97, -1),\n",
       " (103, 0),\n",
       " (108, 3),\n",
       " (125, 5)]"
      ]
     },
     "execution_count": 188,
     "metadata": {},
     "output_type": "execute_result"
    }
   ],
   "source": [
    "data.sort(key=lambda x : x[0])\n",
    "data"
   ]
  },
  {
   "cell_type": "code",
   "execution_count": 136,
   "id": "continued-objective",
   "metadata": {},
   "outputs": [],
   "source": [
    "k = [(x['query_id'], x['query_candidate_item']) for x in k2d_gt_data if x['query_id'] in yelp_data]"
   ]
  },
  {
   "cell_type": "code",
   "execution_count": 174,
   "id": "blessed-athletics",
   "metadata": {},
   "outputs": [],
   "source": [
    "y = {data[i][0] : (data[i][1], k[i][1]) for i,_ in enumerate(k) if data[i][1] < k[i][1] and data[i][1] != -1}"
   ]
  },
  {
   "cell_type": "code",
   "execution_count": 175,
   "id": "prerequisite-trunk",
   "metadata": {},
   "outputs": [
    {
     "data": {
      "text/plain": [
       "{25: (0, 6), 49: (0, 2), 66: (6, 10), 80: (112, 140)}"
      ]
     },
     "execution_count": 175,
     "metadata": {},
     "output_type": "execute_result"
    }
   ],
   "source": [
    "y"
   ]
  },
  {
   "cell_type": "code",
   "execution_count": 180,
   "id": "organic-killing",
   "metadata": {},
   "outputs": [
    {
     "data": {
      "text/plain": [
       "[{'table': 'business',\n",
       "  'schema_filter': [],\n",
       "  'value_filter': [{'attribute': 'name', 'keywords': ['groomers', 'pet']}]},\n",
       " {'table': 'neighborhood',\n",
       "  'schema_filter': [{'attribute': 'neighborhood_name',\n",
       "    'keywords': ['edinburgh']}],\n",
       "  'value_filter': []}]"
      ]
     },
     "execution_count": 180,
     "metadata": {},
     "output_type": "execute_result"
    }
   ],
   "source": [
    "k2d_gt_data[24]['query_matches'][0]\n",
    "#"
   ]
  },
  {
   "cell_type": "code",
   "execution_count": 179,
   "id": "better-replica",
   "metadata": {},
   "outputs": [
    {
     "data": {
      "text/plain": [
       "{BUSINESS.v(city{edinburgh}), CATEGORY.v(category_name{pet,groomers})}"
      ]
     },
     "execution_count": 179,
     "metadata": {},
     "output_type": "execute_result"
    }
   ],
   "source": [
    "evaluation.evaluation_items[24].query_match"
   ]
  },
  {
   "cell_type": "code",
   "execution_count": 168,
   "id": "automated-traveler",
   "metadata": {},
   "outputs": [],
   "source": [
    "def evaluation_qm(idx, idx_gt):\n",
    "    qm = k2d_gt_data[idx]['query_matches'][idx_gt]\n",
    "    compare_item = EvaluationItem()\n",
    "    compare_item.build_from_json({'segments': [], 'query_id': -1, 'query_matches': qm})\n",
    "    return evaluation.evaluation_items[idx] == compare_item"
   ]
  },
  {
   "cell_type": "code",
   "execution_count": 178,
   "id": "southwest-brooks",
   "metadata": {},
   "outputs": [
    {
     "name": "stdout",
     "output_type": "stream",
     "text": [
      "[('v', 'business', 'name', 'pet'), ('v', 'business', 'name', 'groomers'), ('s', 'neighborhood', 'neighborhood_name', 'edinburgh')] [('v', 'category', 'category_name', 'pet'), ('v', 'category', 'category_name', 'groomers'), ('v', 'business', 'city', 'edinburgh')]\n"
     ]
    },
    {
     "data": {
      "text/plain": [
       "False"
      ]
     },
     "execution_count": 178,
     "metadata": {},
     "output_type": "execute_result"
    }
   ],
   "source": [
    "evaluation_qm(24, 0)"
   ]
  },
  {
   "cell_type": "code",
   "execution_count": 189,
   "id": "aging-bible",
   "metadata": {},
   "outputs": [],
   "source": [
    "def evaluation_qm_nalir(idx, idx_gt):\n",
    "    qm = nalir_inpus_data[idx][idx_gt]\n",
    "    compare_item = EvaluationItem()\n",
    "    compare_item.build_from_json({'segments': [], 'query_id': -1, 'query_matches': qm})\n",
    "    return evaluation.evaluation_items[idx].has_words_equal(compare_item)"
   ]
  },
  {
   "cell_type": "code",
   "execution_count": 191,
   "id": "celtic-saudi",
   "metadata": {},
   "outputs": [
    {
     "data": {
      "text/plain": [
       "[{'table': 'business',\n",
       "  'schema_filter': [],\n",
       "  'value_filter': [{'attribute': 'name', 'keywords': ['many']}]},\n",
       " {'table': 'neighborhood',\n",
       "  'schema_filter': [{'attribute': 'neighborhood_name',\n",
       "    'keywords': ['edinburgh']}],\n",
       "  'value_filter': []},\n",
       " {'table': 'business',\n",
       "  'schema_filter': [],\n",
       "  'value_filter': [{'attribute': 'name', 'keywords': ['groomers', 'pet']}]}]"
      ]
     },
     "execution_count": 191,
     "metadata": {},
     "output_type": "execute_result"
    }
   ],
   "source": [
    "nalir_inpus_data[25][0]"
   ]
  },
  {
   "cell_type": "code",
   "execution_count": null,
   "id": "obvious-hometown",
   "metadata": {},
   "outputs": [],
   "source": []
  }
 ],
 "metadata": {
  "kernelspec": {
   "display_name": "Python 3",
   "language": "python",
   "name": "python3"
  },
  "language_info": {
   "codemirror_mode": {
    "name": "ipython",
    "version": 3
   },
   "file_extension": ".py",
   "mimetype": "text/x-python",
   "name": "python",
   "nbconvert_exporter": "python",
   "pygments_lexer": "ipython3",
   "version": "3.9.2"
  }
 },
 "nbformat": 4,
 "nbformat_minor": 5
}
